{
  "nbformat": 4,
  "nbformat_minor": 0,
  "metadata": {
    "colab": {
      "provenance": [],
      "authorship_tag": "ABX9TyM/ksyXw5qVNzPNUsHCF4bX",
      "include_colab_link": true
    },
    "kernelspec": {
      "name": "python3",
      "display_name": "Python 3"
    },
    "language_info": {
      "name": "python"
    }
  },
  "cells": [
    {
      "cell_type": "markdown",
      "metadata": {
        "id": "view-in-github",
        "colab_type": "text"
      },
      "source": [
        "<a href=\"https://colab.research.google.com/github/monolixd/LearningForInternShip/blob/main/Chapter1PythonForML.ipynb\" target=\"_parent\"><img src=\"https://colab.research.google.com/assets/colab-badge.svg\" alt=\"Open In Colab\"/></a>"
      ]
    },
    {
      "cell_type": "markdown",
      "source": [
        "\n",
        "🎯 บทเรียนที่ 1: พื้นฐาน Python สำหรับ Machine Learning 🐍\n",
        "\n",
        "ก่อนที่เราจะเข้าสู่ Machine Learning เต็มรูปแบบ เราจะเริ่มจากการเสริมพื้นฐาน Python และไลบรารีสำคัญที่จำเป็นต่อการทำ Data Science และ AI\n",
        "\n",
        "🔹 เป้าหมายของบทเรียนนี้:\n",
        "✅ เข้าใจพื้นฐาน Python และการใช้ไลบรารีสำคัญ เช่น NumPy และ Pandas\n",
        "✅ ฝึกการจัดการข้อมูลและสร้าง Data Pipeline เบื้องต้น\n",
        "✅ ฝึกการทำ Exploratory Data Analysis (EDA)\n",
        "\n",
        "\n",
        "\n"
      ],
      "metadata": {
        "id": "U7r_GYKo8R5Z"
      }
    },
    {
      "cell_type": "markdown",
      "source": [
        "# 🔹 1. Syntax พื้นฐานของ Python"
      ],
      "metadata": {
        "id": "5HbZ-bm28cxw"
      }
    },
    {
      "cell_type": "markdown",
      "source": [
        "## ✅ Variables & Data Types"
      ],
      "metadata": {
        "id": "udBlM0UM8e0T"
      }
    },
    {
      "cell_type": "code",
      "execution_count": null,
      "metadata": {
        "id": "oAM_yQqS8JTa"
      },
      "outputs": [],
      "source": [
        "#ตัวแปรพื้นฐาน\n",
        "\n",
        "num = 10 #INT\n",
        "pi = 3.14 #Float\n",
        "name = \"Ai Guru\" #STRING\n",
        "is_ready = True #Boolean"
      ]
    },
    {
      "cell_type": "markdown",
      "source": [
        "## ✅ การใช้ List, Tuple, และ Dictionary"
      ],
      "metadata": {
        "id": "zIWs2ELF8vSM"
      }
    },
    {
      "cell_type": "code",
      "source": [
        "# List (สามารถเปลี่ยนค่าได้)\n",
        "fruits = [\"apple\" , \"mango\" , \"Banana\"]\n",
        "frui"
      ],
      "metadata": {
        "id": "mV7B_Vkw8wxU"
      },
      "execution_count": null,
      "outputs": []
    }
  ]
}