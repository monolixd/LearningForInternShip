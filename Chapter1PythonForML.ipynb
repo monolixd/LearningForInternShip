{
  "nbformat": 4,
  "nbformat_minor": 0,
  "metadata": {
    "colab": {
      "provenance": [],
      "toc_visible": true,
      "mount_file_id": "1CuaKxgStwmxdcxSbQe7FUKgZdz3AEGFP",
      "authorship_tag": "ABX9TyNywXKH/VEP3z4ISeTuTWAU",
      "include_colab_link": true
    },
    "kernelspec": {
      "name": "python3",
      "display_name": "Python 3"
    },
    "language_info": {
      "name": "python"
    }
  },
  "cells": [
    {
      "cell_type": "markdown",
      "metadata": {
        "id": "view-in-github",
        "colab_type": "text"
      },
      "source": [
        "<a href=\"https://colab.research.google.com/github/monolixd/LearningForInternShip/blob/main/Chapter1PythonForML.ipynb\" target=\"_parent\"><img src=\"https://colab.research.google.com/assets/colab-badge.svg\" alt=\"Open In Colab\"/></a>"
      ]
    },
    {
      "cell_type": "markdown",
      "source": [
        "\n",
        "🎯 บทเรียนที่ 1: พื้นฐาน Python สำหรับ Machine Learning 🐍\n",
        "\n",
        "ก่อนที่เราจะเข้าสู่ Machine Learning เต็มรูปแบบ เราจะเริ่มจากการเสริมพื้นฐาน Python และไลบรารีสำคัญที่จำเป็นต่อการทำ Data Science และ AI\n",
        "\n",
        "🔹 เป้าหมายของบทเรียนนี้:\n",
        "✅ เข้าใจพื้นฐาน Python และการใช้ไลบรารีสำคัญ เช่น NumPy และ Pandas\n",
        "✅ ฝึกการจัดการข้อมูลและสร้าง Data Pipeline เบื้องต้น\n",
        "✅ ฝึกการทำ Exploratory Data Analysis (EDA)\n",
        "\n",
        "\n",
        "\n"
      ],
      "metadata": {
        "id": "U7r_GYKo8R5Z"
      }
    },
    {
      "cell_type": "markdown",
      "source": [
        "# 🔹 1. Syntax พื้นฐานของ Python"
      ],
      "metadata": {
        "id": "5HbZ-bm28cxw"
      }
    },
    {
      "cell_type": "markdown",
      "source": [
        "## ✅ Variables & Data Types"
      ],
      "metadata": {
        "id": "udBlM0UM8e0T"
      }
    },
    {
      "cell_type": "code",
      "execution_count": null,
      "metadata": {
        "id": "oAM_yQqS8JTa"
      },
      "outputs": [],
      "source": [
        "#ตัวแปรพื้นฐาน\n",
        "\n",
        "num = 10 #INT\n",
        "pi = 3.14 #Float\n",
        "name = \"Ai Guru\" #STRING\n",
        "is_ready = True #Boolean"
      ]
    },
    {
      "cell_type": "markdown",
      "source": [
        "## ✅ การใช้ List, Tuple, และ Dictionary"
      ],
      "metadata": {
        "id": "zIWs2ELF8vSM"
      }
    },
    {
      "cell_type": "code",
      "source": [
        "# List (สามารถเปลี่ยนค่าได้)\n",
        "fruits = [\"apple\" , \"mango\" , \"Banana\"]\n",
        "fruits.append(\"Grape\")\n",
        "print(fruits)"
      ],
      "metadata": {
        "id": "mV7B_Vkw8wxU",
        "colab": {
          "base_uri": "https://localhost:8080/"
        },
        "outputId": "695daf78-39a8-4c84-8352-9643f4213a18"
      },
      "execution_count": null,
      "outputs": [
        {
          "output_type": "stream",
          "name": "stdout",
          "text": [
            "['apple', 'mango', 'Banana', 'Grape']\n"
          ]
        }
      ]
    },
    {
      "cell_type": "code",
      "source": [
        "# Tuple (ค่าคงที่ เปลี่ยนไม่ได้)\n",
        "dimensions = (1920, 1080)\n",
        "print(dimensions)"
      ],
      "metadata": {
        "colab": {
          "base_uri": "https://localhost:8080/"
        },
        "id": "IaU4Lx4m3lRZ",
        "outputId": "d0440785-3cde-4d57-b03b-ea27986ffc26"
      },
      "execution_count": null,
      "outputs": [
        {
          "output_type": "stream",
          "name": "stdout",
          "text": [
            "(1920, 1080)\n"
          ]
        }
      ]
    },
    {
      "cell_type": "code",
      "source": [
        "# Dictionary (เก็บข้อมูลแบบ key-value)\n",
        "person = {\"name\": \"John\", \"age\": 25}\n",
        "print(person[\"name\"],person[\"age\"])"
      ],
      "metadata": {
        "colab": {
          "base_uri": "https://localhost:8080/"
        },
        "id": "oH2rNbsC3oi_",
        "outputId": "ebe6fe42-1f3a-4639-e463-79174848dd0f"
      },
      "execution_count": null,
      "outputs": [
        {
          "output_type": "stream",
          "name": "stdout",
          "text": [
            "John 25\n"
          ]
        }
      ]
    },
    {
      "cell_type": "markdown",
      "source": [
        "## ✅ Loop & Condition"
      ],
      "metadata": {
        "id": "P70kUgd24bai"
      }
    },
    {
      "cell_type": "code",
      "source": [
        "age = 20\n",
        "if age >= 18 :\n",
        "  print(\"You are an adult\")\n",
        "else:\n",
        "  print(\"You are a minor\")"
      ],
      "metadata": {
        "colab": {
          "base_uri": "https://localhost:8080/"
        },
        "id": "F4tuh-Rg31SV",
        "outputId": "7b06c957-6075-43b0-dbfd-67d55c307d5a"
      },
      "execution_count": null,
      "outputs": [
        {
          "output_type": "stream",
          "name": "stdout",
          "text": [
            "You are an adult\n"
          ]
        }
      ]
    },
    {
      "cell_type": "code",
      "source": [
        "for i in range(5):\n",
        "  print(\"countdown:\",i+1)"
      ],
      "metadata": {
        "colab": {
          "base_uri": "https://localhost:8080/"
        },
        "id": "OwyKXgz45Rlg",
        "outputId": "10f44aef-25e8-4ede-98a6-145f26f794b3"
      },
      "execution_count": null,
      "outputs": [
        {
          "output_type": "stream",
          "name": "stdout",
          "text": [
            "countdown: 1\n",
            "countdown: 2\n",
            "countdown: 3\n",
            "countdown: 4\n",
            "countdown: 5\n"
          ]
        }
      ]
    },
    {
      "cell_type": "markdown",
      "source": [
        "## ✅ Function & Lambda"
      ],
      "metadata": {
        "id": "NjB0zeVR6wVT"
      }
    },
    {
      "cell_type": "code",
      "source": [
        "# ฟังก์ชันทั่วไป\n",
        "def add(a, b):\n",
        "    return a + b\n",
        "\n",
        "# Lambda function (ฟังก์ชันแบบย่อ)\n",
        "square = lambda x: x**2\n",
        "print(square(5))  # Output: 25"
      ],
      "metadata": {
        "colab": {
          "base_uri": "https://localhost:8080/"
        },
        "id": "KJMWQQr46loV",
        "outputId": "d6de2b2b-a038-4296-b6a8-3c9762b8f31c"
      },
      "execution_count": null,
      "outputs": [
        {
          "output_type": "stream",
          "name": "stdout",
          "text": [
            "25\n"
          ]
        }
      ]
    },
    {
      "cell_type": "markdown",
      "source": [
        "# 🔹 2. การใช้ NumPy และ Pandas สำหรับ Data Processing"
      ],
      "metadata": {
        "id": "FdcS-0I3_S9E"
      }
    },
    {
      "cell_type": "markdown",
      "source": [
        "## ✅ NumPy: คำนวณเชิงตัวเลขและสร้างอาร์เรย์"
      ],
      "metadata": {
        "id": "pzcLqz2U_e_J"
      }
    },
    {
      "cell_type": "code",
      "source": [
        "import numpy as np\n",
        "\n",
        "#สร้างอาร์เรย์ 1 มิติ และ 2 มิติ\n",
        "arr= np.array([2,2,2])\n",
        "matrix = np.array([[1,2,3],[4,5,6]])\n",
        "\n",
        "print(arr.mean())\n",
        "print(arr.sum())\n",
        "print(arr.std())\n",
        "\n",
        "# Indexing & Slicing\n",
        "print(matrix[0,0])"
      ],
      "metadata": {
        "colab": {
          "base_uri": "https://localhost:8080/"
        },
        "id": "kA5HYPQb_f2B",
        "outputId": "7b8bd0d3-a360-4ae5-f5e3-cdc2407d961c"
      },
      "execution_count": 15,
      "outputs": [
        {
          "output_type": "stream",
          "name": "stdout",
          "text": [
            "2.0\n",
            "6\n",
            "0.0\n",
            "1\n"
          ]
        }
      ]
    },
    {
      "cell_type": "markdown",
      "source": [
        "## ✅ Pandas: ใช้จัดการข้อมูลแบบตาราง"
      ],
      "metadata": {
        "id": "nHmpc3XY_93y"
      }
    },
    {
      "cell_type": "code",
      "source": [
        "import pandas as pd\n",
        "\n",
        "# อ่านไฟล์ CSV\n",
        "df = pd.read_csv(\"/content/drive/MyDrive/LearningforIntern/Chapter/data.csv\")\n",
        "\n",
        "# ดูข้อมูลเบื้องต้น\n",
        "print(df.head())  # ดู 5 แถวแรก\n",
        "print(df.describe())  # ดูสถิติ\n",
        "\n",
        "# คัดเลือกข้อมูล\n",
        "filtered_df = df[df[\"Age\"] > 25]  # เลือกเฉพาะคนที่อายุมากกว่า 25 ปี"
      ],
      "metadata": {
        "colab": {
          "base_uri": "https://localhost:8080/"
        },
        "id": "X252nrFOA10N",
        "outputId": "39e046c3-03cd-4b5c-e120-162cad5d48c3"
      },
      "execution_count": 22,
      "outputs": [
        {
          "output_type": "stream",
          "name": "stdout",
          "text": [
            "      Name  Age         City\n",
            "0    Alice   22     New York\n",
            "1      Bob   30  Los Angeles\n",
            "2  Charlie   25      Chicago\n",
            "3    David   40      Houston\n",
            "4     Emma   27      Phoenix\n",
            "             Age\n",
            "count   8.000000\n",
            "mean   30.375000\n",
            "std     9.006942\n",
            "min    19.000000\n",
            "25%    24.250000\n",
            "50%    28.500000\n",
            "75%    36.250000\n",
            "max    45.000000\n"
          ]
        }
      ]
    },
    {
      "cell_type": "markdown",
      "source": [
        "# 🔹 3. Exploratory Data Analysis (EDA) เบื้องต้น"
      ],
      "metadata": {
        "id": "hOkwC8InBaFL"
      }
    },
    {
      "cell_type": "markdown",
      "source": [
        "## ✅ การสร้างกราฟเพื่อดูข้อมูล"
      ],
      "metadata": {
        "id": "Sq2lHlB7Blfk"
      }
    },
    {
      "cell_type": "code",
      "source": [
        "import matplotlib.pyplot as plt\n",
        "import pandas as pd # Import pandas\n",
        "\n",
        "#สร้างกราฟ Histrogram\n",
        "df[\"Age\"].hist(bins=20)\n",
        "plt.xlabel(\"Age\")\n",
        "plt.ylabel(\"Frequency\")\n",
        "plt.title(\"Distribution of Age\")\n",
        "plt.show()"
      ],
      "metadata": {
        "colab": {
          "base_uri": "https://localhost:8080/",
          "height": 472
        },
        "id": "kkRwIbabBncw",
        "outputId": "ddabfa0f-19d9-48ed-9197-d83eed28b470"
      },
      "execution_count": 26,
      "outputs": [
        {
          "output_type": "display_data",
          "data": {
            "text/plain": [
              "<Figure size 640x480 with 1 Axes>"
            ],
            "image/png": "[encoded data removed]"
          },
          "metadata": {}
        }
      ]
    },
    {
      "cell_type": "markdown",
      "source": [
        "## ✅ การตรวจสอบ Missing Data"
      ],
      "metadata": {
        "id": "KQajjLNQD_uK"
      }
    },
    {
      "cell_type": "code",
      "source": [
        "print(df.isnull().sum())  # นับจำนวน Missing Values"
      ],
      "metadata": {
        "colab": {
          "base_uri": "https://localhost:8080/"
        },
        "id": "JQXcdO3ZEAsG",
        "outputId": "2098525a-07e6-407b-e282-771dd9e43eb5"
      },
      "execution_count": 29,
      "outputs": [
        {
          "output_type": "stream",
          "name": "stdout",
          "text": [
            "Name    0\n",
            "Age     0\n",
            "City    0\n",
            "dtype: int64\n"
          ]
        }
      ]
    },
    {
      "cell_type": "markdown",
      "source": [
        "## ✅ การแปลงข้อมูล (Feature Scaling & Encoding)"
      ],
      "metadata": {
        "id": "mRfzzkQNERs2"
      }
    },
    {
      "cell_type": "code",
      "source": [
        "from sklearn.preprocessing import StandardScaler, LabelEncoder\n",
        "\n",
        "# Standard Scaling (ทำให้ข้อมูลอยู่ในช่วงเดียวกัน)\n",
        "scaler = StandardScaler()\n",
        "df[\"Normalized_Age\"] = scaler.fit_transform(df[[\"Age\"]])\n",
        "display(df)"
      ],
      "metadata": {
        "colab": {
          "base_uri": "https://localhost:8080/",
          "height": 300
        },
        "id": "ZFjhndwhEYVu",
        "outputId": "458ed64e-918a-42e8-d896-833f4a195694"
      },
      "execution_count": 38,
      "outputs": [
        {
          "output_type": "display_data",
          "data": {
            "text/plain": [
              "      Name  Age          City  Normalized_Age\n",
              "0    Alice   22      New York       -0.994039\n",
              "1      Bob   30   Los Angeles       -0.044509\n",
              "2  Charlie   25       Chicago       -0.637965\n",
              "3    David   40       Houston        1.142403\n",
              "4     Emma   27       Phoenix       -0.400583\n",
              "5    Frank   35  Philadelphia        0.548947\n",
              "6    Grace   19   San Antonio       -1.350113\n",
              "7    Helen   45     San Diego        1.735859"
            ],
            "text/html": [
              "\n",
              "  <div id=\"df-c1efd247-e51b-4314-8e50-adc7d9fef8fc\" class=\"colab-df-container\">\n",
              "    <div>\n",
              "<style scoped>\n",
              "    .dataframe tbody tr th:only-of-type {\n",
              "        vertical-align: middle;\n",
              "    }\n",
              "\n",
              "    .dataframe tbody tr th {\n",
              "        vertical-align: top;\n",
              "    }\n",
              "\n",
              "    .dataframe thead th {\n",
              "        text-align: right;\n",
              "    }\n",
              "</style>\n",
              "<table border=\"1\" class=\"dataframe\">\n",
              "  <thead>\n",
              "    <tr style=\"text-align: right;\">\n",
              "      <th></th>\n",
              "      <th>Name</th>\n",
              "      <th>Age</th>\n",
              "      <th>City</th>\n",
              "      <th>Normalized_Age</th>\n",
              "    </tr>\n",
              "  </thead>\n",
              "  <tbody>\n",
              "    <tr>\n",
              "      <th>0</th>\n",
              "      <td>Alice</td>\n",
              "      <td>22</td>\n",
              "      <td>New York</td>\n",
              "      <td>-0.994039</td>\n",
              "    </tr>\n",
              "    <tr>\n",
              "      <th>1</th>\n",
              "      <td>Bob</td>\n",
              "      <td>30</td>\n",
              "      <td>Los Angeles</td>\n",
              "      <td>-0.044509</td>\n",
              "    </tr>\n",
              "    <tr>\n",
              "      <th>2</th>\n",
              "      <td>Charlie</td>\n",
              "      <td>25</td>\n",
              "      <td>Chicago</td>\n",
              "      <td>-0.637965</td>\n",
              "    </tr>\n",
              "    <tr>\n",
              "      <th>3</th>\n",
              "      <td>David</td>\n",
              "      <td>40</td>\n",
              "      <td>Houston</td>\n",
              "      <td>1.142403</td>\n",
              "    </tr>\n",
              "    <tr>\n",
              "      <th>4</th>\n",
              "      <td>Emma</td>\n",
              "      <td>27</td>\n",
              "      <td>Phoenix</td>\n",
              "      <td>-0.400583</td>\n",
              "    </tr>\n",
              "    <tr>\n",
              "      <th>5</th>\n",
              "      <td>Frank</td>\n",
              "      <td>35</td>\n",
              "      <td>Philadelphia</td>\n",
              "      <td>0.548947</td>\n",
              "    </tr>\n",
              "    <tr>\n",
              "      <th>6</th>\n",
              "      <td>Grace</td>\n",
              "      <td>19</td>\n",
              "      <td>San Antonio</td>\n",
              "      <td>-1.350113</td>\n",
              "    </tr>\n",
              "    <tr>\n",
              "      <th>7</th>\n",
              "      <td>Helen</td>\n",
              "      <td>45</td>\n",
              "      <td>San Diego</td>\n",
              "      <td>1.735859</td>\n",
              "    </tr>\n",
              "  </tbody>\n",
              "</table>\n",
              "</div>\n",
              "    <div class=\"colab-df-buttons\">\n",
              "\n",
              "  <div class=\"colab-df-container\">\n",
              "    <button class=\"colab-df-convert\" onclick=\"convertToInteractive('df-c1efd247-e51b-4314-8e50-adc7d9fef8fc')\"\n",
              "            title=\"Convert this dataframe to an interactive table.\"\n",
              "            style=\"display:none;\">\n",
              "\n",
              "  <svg xmlns=\"http://www.w3.org/2000/svg\" height=\"24px\" viewBox=\"0 -960 960 960\">\n",
              "    <path d=\"M120-120v-720h720v720H120Zm60-500h600v-160H180v160Zm220 220h160v-160H400v160Zm0 220h160v-160H400v160ZM180-400h160v-160H180v160Zm440 0h160v-160H620v160ZM180-180h160v-160H180v160Zm440 0h160v-160H620v160Z\"/>\n",
              "  </svg>\n",
              "    </button>\n",
              "\n",
              "  <style>\n",
              "    .colab-df-container {\n",
              "      display:flex;\n",
              "      gap: 12px;\n",
              "    }\n",
              "\n",
              "    .colab-df-convert {\n",
              "      background-color: #E8F0FE;\n",
              "      border: none;\n",
              "      border-radius: 50%;\n",
              "      cursor: pointer;\n",
              "      display: none;\n",
              "      fill: #1967D2;\n",
              "      height: 32px;\n",
              "      padding: 0 0 0 0;\n",
              "      width: 32px;\n",
              "    }\n",
              "\n",
              "    .colab-df-convert:hover {\n",
              "      background-color: #E2EBFA;\n",
              "      box-shadow: 0px 1px 2px rgba(60, 64, 67, 0.3), 0px 1px 3px 1px rgba(60, 64, 67, 0.15);\n",
              "      fill: #174EA6;\n",
              "    }\n",
              "\n",
              "    .colab-df-buttons div {\n",
              "      margin-bottom: 4px;\n",
              "    }\n",
              "\n",
              "    [theme=dark] .colab-df-convert {\n",
              "      background-color: #3B4455;\n",
              "      fill: #D2E3FC;\n",
              "    }\n",
              "\n",
              "    [theme=dark] .colab-df-convert:hover {\n",
              "      background-color: #434B5C;\n",
              "      box-shadow: 0px 1px 3px 1px rgba(0, 0, 0, 0.15);\n",
              "      filter: drop-shadow(0px 1px 2px rgba(0, 0, 0, 0.3));\n",
              "      fill: #FFFFFF;\n",
              "    }\n",
              "  </style>\n",
              "\n",
              "    <script>\n",
              "      const buttonEl =\n",
              "        document.querySelector('#df-c1efd247-e51b-4314-8e50-adc7d9fef8fc button.colab-df-convert');\n",
              "      buttonEl.style.display =\n",
              "        google.colab.kernel.accessAllowed ? 'block' : 'none';\n",
              "\n",
              "      async function convertToInteractive(key) {\n",
              "        const element = document.querySelector('#df-c1efd247-e51b-4314-8e50-adc7d9fef8fc');\n",
              "        const dataTable =\n",
              "          await google.colab.kernel.invokeFunction('convertToInteractive',\n",
              "                                                    [key], {});\n",
              "        if (!dataTable) return;\n",
              "\n",
              "        const docLinkHtml = 'Like what you see? Visit the ' +\n",
              "          '<a target=\"_blank\" href=https://colab.research.google.com/notebooks/data_table.ipynb>data table notebook</a>'\n",
              "          + ' to learn more about interactive tables.';\n",
              "        element.innerHTML = '';\n",
              "        dataTable['output_type'] = 'display_data';\n",
              "        await google.colab.output.renderOutput(dataTable, element);\n",
              "        const docLink = document.createElement('div');\n",
              "        docLink.innerHTML = docLinkHtml;\n",
              "        element.appendChild(docLink);\n",
              "      }\n",
              "    </script>\n",
              "  </div>\n",
              "\n",
              "\n",
              "<div id=\"df-5c1d06d1-d5e7-4809-9010-90dd4a521c51\">\n",
              "  <button class=\"colab-df-quickchart\" onclick=\"quickchart('df-5c1d06d1-d5e7-4809-9010-90dd4a521c51')\"\n",
              "            title=\"Suggest charts\"\n",
              "            style=\"display:none;\">\n",
              "\n",
              "<svg xmlns=\"http://www.w3.org/2000/svg\" height=\"24px\"viewBox=\"0 0 24 24\"\n",
              "     width=\"24px\">\n",
              "    <g>\n",
              "        <path d=\"M19 3H5c-1.1 0-2 .9-2 2v14c0 1.1.9 2 2 2h14c1.1 0 2-.9 2-2V5c0-1.1-.9-2-2-2zM9 17H7v-7h2v7zm4 0h-2V7h2v10zm4 0h-2v-4h2v4z\"/>\n",
              "    </g>\n",
              "</svg>\n",
              "  </button>\n",
              "\n",
              "<style>\n",
              "  .colab-df-quickchart {\n",
              "      --bg-color: #E8F0FE;\n",
              "      --fill-color: #1967D2;\n",
              "      --hover-bg-color: #E2EBFA;\n",
              "      --hover-fill-color: #174EA6;\n",
              "      --disabled-fill-color: #AAA;\n",
              "      --disabled-bg-color: #DDD;\n",
              "  }\n",
              "\n",
              "  [theme=dark] .colab-df-quickchart {\n",
              "      --bg-color: #3B4455;\n",
              "      --fill-color: #D2E3FC;\n",
              "      --hover-bg-color: #434B5C;\n",
              "      --hover-fill-color: #FFFFFF;\n",
              "      --disabled-bg-color: #3B4455;\n",
              "      --disabled-fill-color: #666;\n",
              "  }\n",
              "\n",
              "  .colab-df-quickchart {\n",
              "    background-color: var(--bg-color);\n",
              "    border: none;\n",
              "    border-radius: 50%;\n",
              "    cursor: pointer;\n",
              "    display: none;\n",
              "    fill: var(--fill-color);\n",
              "    height: 32px;\n",
              "    padding: 0;\n",
              "    width: 32px;\n",
              "  }\n",
              "\n",
              "  .colab-df-quickchart:hover {\n",
              "    background-color: var(--hover-bg-color);\n",
              "    box-shadow: 0 1px 2px rgba(60, 64, 67, 0.3), 0 1px 3px 1px rgba(60, 64, 67, 0.15);\n",
              "    fill: var(--button-hover-fill-color);\n",
              "  }\n",
              "\n",
              "  .colab-df-quickchart-complete:disabled,\n",
              "  .colab-df-quickchart-complete:disabled:hover {\n",
              "    background-color: var(--disabled-bg-color);\n",
              "    fill: var(--disabled-fill-color);\n",
              "    box-shadow: none;\n",
              "  }\n",
              "\n",
              "  .colab-df-spinner {\n",
              "    border: 2px solid var(--fill-color);\n",
              "    border-color: transparent;\n",
              "    border-bottom-color: var(--fill-color);\n",
              "    animation:\n",
              "      spin 1s steps(1) infinite;\n",
              "  }\n",
              "\n",
              "  @keyframes spin {\n",
              "    0% {\n",
              "      border-color: transparent;\n",
              "      border-bottom-color: var(--fill-color);\n",
              "      border-left-color: var(--fill-color);\n",
              "    }\n",
              "    20% {\n",
              "      border-color: transparent;\n",
              "      border-left-color: var(--fill-color);\n",
              "      border-top-color: var(--fill-color);\n",
              "    }\n",
              "    30% {\n",
              "      border-color: transparent;\n",
              "      border-left-color: var(--fill-color);\n",
              "      border-top-color: var(--fill-color);\n",
              "      border-right-color: var(--fill-color);\n",
              "    }\n",
              "    40% {\n",
              "      border-color: transparent;\n",
              "      border-right-color: var(--fill-color);\n",
              "      border-top-color: var(--fill-color);\n",
              "    }\n",
              "    60% {\n",
              "      border-color: transparent;\n",
              "      border-right-color: var(--fill-color);\n",
              "    }\n",
              "    80% {\n",
              "      border-color: transparent;\n",
              "      border-right-color: var(--fill-color);\n",
              "      border-bottom-color: var(--fill-color);\n",
              "    }\n",
              "    90% {\n",
              "      border-color: transparent;\n",
              "      border-bottom-color: var(--fill-color);\n",
              "    }\n",
              "  }\n",
              "</style>\n",
              "\n",
              "  <script>\n",
              "    async function quickchart(key) {\n",
              "      const quickchartButtonEl =\n",
              "        document.querySelector('#' + key + ' button');\n",
              "      quickchartButtonEl.disabled = true;  // To prevent multiple clicks.\n",
              "      quickchartButtonEl.classList.add('colab-df-spinner');\n",
              "      try {\n",
              "        const charts = await google.colab.kernel.invokeFunction(\n",
              "            'suggestCharts', [key], {});\n",
              "      } catch (error) {\n",
              "        console.error('Error during call to suggestCharts:', error);\n",
              "      }\n",
              "      quickchartButtonEl.classList.remove('colab-df-spinner');\n",
              "      quickchartButtonEl.classList.add('colab-df-quickchart-complete');\n",
              "    }\n",
              "    (() => {\n",
              "      let quickchartButtonEl =\n",
              "        document.querySelector('#df-5c1d06d1-d5e7-4809-9010-90dd4a521c51 button');\n",
              "      quickchartButtonEl.style.display =\n",
              "        google.colab.kernel.accessAllowed ? 'block' : 'none';\n",
              "    })();\n",
              "  </script>\n",
              "</div>\n",
              "\n",
              "  <div id=\"id_76a10dc7-777c-4ef3-b337-8402e62db7cb\">\n",
              "    <style>\n",
              "      .colab-df-generate {\n",
              "        background-color: #E8F0FE;\n",
              "        border: none;\n",
              "        border-radius: 50%;\n",
              "        cursor: pointer;\n",
              "        display: none;\n",
              "        fill: #1967D2;\n",
              "        height: 32px;\n",
              "        padding: 0 0 0 0;\n",
              "        width: 32px;\n",
              "      }\n",
              "\n",
              "      .colab-df-generate:hover {\n",
              "        background-color: #E2EBFA;\n",
              "        box-shadow: 0px 1px 2px rgba(60, 64, 67, 0.3), 0px 1px 3px 1px rgba(60, 64, 67, 0.15);\n",
              "        fill: #174EA6;\n",
              "      }\n",
              "\n",
              "      [theme=dark] .colab-df-generate {\n",
              "        background-color: #3B4455;\n",
              "        fill: #D2E3FC;\n",
              "      }\n",
              "\n",
              "      [theme=dark] .colab-df-generate:hover {\n",
              "        background-color: #434B5C;\n",
              "        box-shadow: 0px 1px 3px 1px rgba(0, 0, 0, 0.15);\n",
              "        filter: drop-shadow(0px 1px 2px rgba(0, 0, 0, 0.3));\n",
              "        fill: #FFFFFF;\n",
              "      }\n",
              "    </style>\n",
              "    <button class=\"colab-df-generate\" onclick=\"generateWithVariable('df')\"\n",
              "            title=\"Generate code using this dataframe.\"\n",
              "            style=\"display:none;\">\n",
              "\n",
              "  <svg xmlns=\"http://www.w3.org/2000/svg\" height=\"24px\"viewBox=\"0 0 24 24\"\n",
              "       width=\"24px\">\n",
              "    <path d=\"M7,19H8.4L18.45,9,17,7.55,7,17.6ZM5,21V16.75L18.45,3.32a2,2,0,0,1,2.83,0l1.4,1.43a1.91,1.91,0,0,1,.58,1.4,1.91,1.91,0,0,1-.58,1.4L9.25,21ZM18.45,9,17,7.55Zm-12,3A5.31,5.31,0,0,0,4.9,8.1,5.31,5.31,0,0,0,1,6.5,5.31,5.31,0,0,0,4.9,4.9,5.31,5.31,0,0,0,6.5,1,5.31,5.31,0,0,0,8.1,4.9,5.31,5.31,0,0,0,12,6.5,5.46,5.46,0,0,0,6.5,12Z\"/>\n",
              "  </svg>\n",
              "    </button>\n",
              "    <script>\n",
              "      (() => {\n",
              "      const buttonEl =\n",
              "        document.querySelector('#id_76a10dc7-777c-4ef3-b337-8402e62db7cb button.colab-df-generate');\n",
              "      buttonEl.style.display =\n",
              "        google.colab.kernel.accessAllowed ? 'block' : 'none';\n",
              "\n",
              "      buttonEl.onclick = () => {\n",
              "        google.colab.notebook.generateWithVariable('df');\n",
              "      }\n",
              "      })();\n",
              "    </script>\n",
              "  </div>\n",
              "\n",
              "    </div>\n",
              "  </div>\n"
            ],
            "application/vnd.google.colaboratory.intrinsic+json": {
              "type": "dataframe",
              "variable_name": "df",
              "summary": "{\n  \"name\": \"df\",\n  \"rows\": 8,\n  \"fields\": [\n    {\n      \"column\": \"Name\",\n      \"properties\": {\n        \"dtype\": \"string\",\n        \"num_unique_values\": 8,\n        \"samples\": [\n          \"Bob\",\n          \"Frank\",\n          \"Alice\"\n        ],\n        \"semantic_type\": \"\",\n        \"description\": \"\"\n      }\n    },\n    {\n      \"column\": \"Age\",\n      \"properties\": {\n        \"dtype\": \"number\",\n        \"std\": 9,\n        \"min\": 19,\n        \"max\": 45,\n        \"num_unique_values\": 8,\n        \"samples\": [\n          30,\n          35,\n          22\n        ],\n        \"semantic_type\": \"\",\n        \"description\": \"\"\n      }\n    },\n    {\n      \"column\": \"City\",\n      \"properties\": {\n        \"dtype\": \"string\",\n        \"num_unique_values\": 8,\n        \"samples\": [\n          \"Los Angeles\",\n          \"Philadelphia\",\n          \"New York\"\n        ],\n        \"semantic_type\": \"\",\n        \"description\": \"\"\n      }\n    },\n    {\n      \"column\": \"Normalized_Age\",\n      \"properties\": {\n        \"dtype\": \"number\",\n        \"std\": 1.0690449676496976,\n        \"min\": -1.3501127043064731,\n        \"max\": 1.7358591912511796,\n        \"num_unique_values\": 8,\n        \"samples\": [\n          -0.04450921003208153,\n          0.5489469237290056,\n          -0.9940390240498208\n        ],\n        \"semantic_type\": \"\",\n        \"description\": \"\"\n      }\n    }\n  ]\n}"
            }
          },
          "metadata": {}
        }
      ]
    },
    {
      "cell_type": "markdown",
      "source": [
        "# 🎯 📌 แบบฝึกหัด 1"
      ],
      "metadata": {
        "id": "_wupfB7H7qCB"
      }
    },
    {
      "cell_type": "markdown",
      "source": [
        "## 📌 แบบฝึกหัดที่ 1: ตัวแปรและโครงสร้างข้อมูล"
      ],
      "metadata": {
        "id": "cFIPgiGo7lYz"
      }
    },
    {
      "cell_type": "markdown",
      "source": [
        "1️⃣ สร้างตัวแปร ชื่อสินค้า (product_name), ราคาต่อชิ้น (price_per_unit) และ จำนวนที่ซื้อ (quantity)\n",
        "\n",
        "คำนวณราคารวมของสินค้า (total_price) และแสดงผลออกมา"
      ],
      "metadata": {
        "id": "FE3g41Xl7ujq"
      }
    },
    {
      "cell_type": "code",
      "source": [
        "product_name = \"Iphone12\"\n",
        "price_per_unit = 20000\n",
        "quantity = 1\n",
        "total_price = price_per_unit*quantity\n",
        "print(total_price)"
      ],
      "metadata": {
        "colab": {
          "base_uri": "https://localhost:8080/"
        },
        "id": "jIHBFUu47JKn",
        "outputId": "f95b4439-097d-4546-aa4b-78ff7f430268"
      },
      "execution_count": null,
      "outputs": [
        {
          "output_type": "stream",
          "name": "stdout",
          "text": [
            "20000\n"
          ]
        }
      ]
    },
    {
      "cell_type": "markdown",
      "source": [
        "2️⃣ สร้าง List ที่เก็บชื่อสัตว์ 5 ตัว เช่น [\"แมว\", \"หมา\", \"นก\", \"ปลา\", \"กระต่าย\"]\n",
        "\n",
        "เพิ่มสัตว์ใหม่เข้าไปใน List และแสดงผล List ออกมา"
      ],
      "metadata": {
        "id": "zvkZnDS18sR6"
      }
    },
    {
      "cell_type": "code",
      "source": [
        "animals = [\"cat\",\"dog\",\"bird\",\"fish\",\"rabbit\"]\n",
        "print(animals)\n",
        "\n",
        "animals.append(\"elephant\")\n",
        "print(animals)"
      ],
      "metadata": {
        "colab": {
          "base_uri": "https://localhost:8080/"
        },
        "id": "lc58vKLE8oPI",
        "outputId": "3b0b0da0-9afd-443e-ab55-e4e1b27bf0a8"
      },
      "execution_count": null,
      "outputs": [
        {
          "output_type": "stream",
          "name": "stdout",
          "text": [
            "['cat', 'dog', 'bird', 'fish', 'rabbit']\n",
            "['cat', 'dog', 'bird', 'fish', 'rabbit', 'elephant']\n"
          ]
        }
      ]
    },
    {
      "cell_type": "markdown",
      "source": [
        "3️⃣ สร้าง Dictionary ที่เก็บข้อมูลของนักเรียน 3 คน โดยมี Key เป็น \"name\", \"age\", \"score\"\n",
        "\n",
        "แสดงชื่อนักเรียนที่มีคะแนนสูงสุด"
      ],
      "metadata": {
        "id": "jkezaXyx9Vxh"
      }
    },
    {
      "cell_type": "code",
      "source": [
        "# 3️⃣ จัดการ Dictionary ของนักเรียน\n",
        "students = [\n",
        "    {\"name\": \"Alice\", \"age\": 15, \"score\": 85},\n",
        "    {\"name\": \"Bob\", \"age\": 16, \"score\": 92},\n",
        "    {\"name\": \"Charlie\", \"age\": 14, \"score\": 78}\n",
        "]\n",
        "\n",
        "# หาเด็กที่มีคะแนนสูงสุด\n",
        "top_student = max(students, key=lambda s: s[\"score\"])\n",
        "print(f\"นักเรียนที่ได้คะแนนสูงสุดคือ {top_student['name']} ได้คะแนน {top_student['score']} คะแนน\")"
      ],
      "metadata": {
        "colab": {
          "base_uri": "https://localhost:8080/"
        },
        "id": "EsBmNDXP9NwN",
        "outputId": "cf91bb2a-b123-4d8b-f6d7-41b5d180ba13"
      },
      "execution_count": null,
      "outputs": [
        {
          "output_type": "stream",
          "name": "stdout",
          "text": [
            "นักเรียนที่ได้คะแนนสูงสุดคือ Bob ได้คะแนน 92 คะแนน\n"
          ]
        }
      ]
    },
    {
      "cell_type": "markdown",
      "source": [
        "## 📌 แบบฝึกหัดที่ 2: เงื่อนไข (If-Else) และ ลูป (For, While)"
      ],
      "metadata": {
        "id": "eTcp8gZa-jd7"
      }
    },
    {
      "cell_type": "markdown",
      "source": [
        "4️⃣ ให้เขียนโปรแกรมที่รับ อายุของผู้ใช้ และแสดงข้อความว่า\n",
        "\n",
        "\"คุณเป็นผู้ใหญ่\" ถ้าอายุ 18 ปีขึ้นไป\n",
        "\"คุณยังเป็นเด็ก\" ถ้าอายุน้อยกว่า 18 ปี"
      ],
      "metadata": {
        "id": "HNOpPAeB-pMS"
      }
    },
    {
      "cell_type": "code",
      "source": [
        "age = 20\n",
        "if age>=18:\n",
        "  print(\"คุณเป็นผู้ใหญ่\")\n",
        "else:\n",
        "  print(\"คุณยังเป็นเด็ก\")"
      ],
      "metadata": {
        "colab": {
          "base_uri": "https://localhost:8080/"
        },
        "id": "Gef-ZHx9-V7c",
        "outputId": "0fb92518-e543-4f59-e216-8e1dfd76642c"
      },
      "execution_count": null,
      "outputs": [
        {
          "output_type": "stream",
          "name": "stdout",
          "text": [
            "คุณเป็นผู้ใหญ่\n"
          ]
        }
      ]
    },
    {
      "cell_type": "markdown",
      "source": [
        "5️⃣ ใช้ For Loop เพื่อวนลูปแสดงตัวเลข 1-10"
      ],
      "metadata": {
        "id": "OSkkkvWQ_UL5"
      }
    },
    {
      "cell_type": "code",
      "source": [
        "for i in range(10):\n",
        "  print(i+1)"
      ],
      "metadata": {
        "colab": {
          "base_uri": "https://localhost:8080/"
        },
        "id": "Eou7KUG8-74t",
        "outputId": "7677744b-700a-45be-dec2-e6dbba58a7e4"
      },
      "execution_count": null,
      "outputs": [
        {
          "output_type": "stream",
          "name": "stdout",
          "text": [
            "1\n",
            "2\n",
            "3\n",
            "4\n",
            "5\n",
            "6\n",
            "7\n",
            "8\n",
            "9\n",
            "10\n"
          ]
        }
      ]
    },
    {
      "cell_type": "markdown",
      "source": [
        "6️⃣ ใช้ While Loop เพื่อให้ผู้ใช้ป้อนเลข และหยุดเมื่อป้อนเลข 0"
      ],
      "metadata": {
        "id": "T8w4FvRn_fOU"
      }
    },
    {
      "cell_type": "code",
      "source": [
        "while True:\n",
        "  num = int(input(\"ป้อนตัวเลข(พิมพ์ 0 เพื่อหยุด):\"))\n",
        "  if num == 0:\n",
        "    print(\"จบโปรแกรม\")\n",
        "    break"
      ],
      "metadata": {
        "colab": {
          "base_uri": "https://localhost:8080/"
        },
        "id": "VT3d45P8Ahfa",
        "outputId": "e94cbc65-d03c-4a43-d67c-f6338e999857"
      },
      "execution_count": null,
      "outputs": [
        {
          "output_type": "stream",
          "name": "stdout",
          "text": [
            "ป้อนตัวเลข(พิมพ์ 0 เพื่อหยุด):1\n",
            "ป้อนตัวเลข(พิมพ์ 0 เพื่อหยุด):1\n",
            "ป้อนตัวเลข(พิมพ์ 0 เพื่อหยุด):2\n",
            "ป้อนตัวเลข(พิมพ์ 0 เพื่อหยุด):3\n",
            "ป้อนตัวเลข(พิมพ์ 0 เพื่อหยุด):0\n",
            "จบโปรแกรม\n"
          ]
        }
      ]
    },
    {
      "cell_type": "markdown",
      "source": [
        "## 📌 แบบฝึกหัดที่ 3: ฟังก์ชัน และ Lambda Function"
      ],
      "metadata": {
        "id": "PqfeofiiFRy8"
      }
    },
    {
      "cell_type": "markdown",
      "source": [
        "7️⃣ สร้างฟังก์ชัน calculate_discount(price, discount_percent)\n",
        "\n",
        "รับราคาสินค้าและเปอร์เซ็นต์ส่วนลด แล้วคืนค่าราคาสุทธิหลังหักส่วนลด"
      ],
      "metadata": {
        "id": "5nrnnhisGnvB"
      }
    },
    {
      "cell_type": "code",
      "source": [
        "def calculate_discount(price,discount_percent):\n",
        "    discount_amount = price * (discount_percent / 100)\n",
        "    final_price = price - discount_amount\n",
        "    return final_price\n",
        "\n",
        "# ทดสอบฟังก์ชัน\n",
        "original_price = 1000\n",
        "discount = 10\n",
        "print(f\"ราคาหลังหักส่วนลด: {calculate_discount(original_price, discount)} บาท\")\n"
      ],
      "metadata": {
        "colab": {
          "base_uri": "https://localhost:8080/"
        },
        "id": "gyr0LmksDuYz",
        "outputId": "3cb6a7b0-b906-436b-be84-cabcce3e5759"
      },
      "execution_count": null,
      "outputs": [
        {
          "output_type": "stream",
          "name": "stdout",
          "text": [
            "ราคาหลังหักส่วนลด: 900.0 บาท\n"
          ]
        }
      ]
    },
    {
      "cell_type": "markdown",
      "source": [
        "8️⃣ ใช้ Lambda Function สร้างฟังก์ชัน square ที่คืนค่ากำลังสองของตัวเลข"
      ],
      "metadata": {
        "id": "Rjq7kSN9HSwF"
      }
    },
    {
      "cell_type": "code",
      "source": [
        "# Lambda function (ฟังก์ชันแบบย่อ)\n",
        "square = lambda x: x**2\n",
        "print(square(4))"
      ],
      "metadata": {
        "colab": {
          "base_uri": "https://localhost:8080/"
        },
        "id": "InoIb39mHAAd",
        "outputId": "2effcf9f-f75c-4e8c-b3b9-ff77da290683"
      },
      "execution_count": null,
      "outputs": [
        {
          "output_type": "stream",
          "name": "stdout",
          "text": [
            "16\n"
          ]
        }
      ]
    },
    {
      "cell_type": "markdown",
      "source": [
        "# 🎯 📌 แบบฝึกหัดที่ 2"
      ],
      "metadata": {
        "id": "AUIBp1HOF_tN"
      }
    },
    {
      "cell_type": "markdown",
      "source": [
        "🔹 ลองเขียนโค้ดเพื่อโหลดไฟล์ CSV (สร้าง DataFrame) และทำ EDA เช่น หาค่าเฉลี่ยของคอลัมน์ที่มีตัวเลข"
      ],
      "metadata": {
        "id": "nKiI1p9BGF9F"
      }
    },
    {
      "cell_type": "code",
      "source": [
        "import pandas as pd\n",
        "df = pd.read_csv(\"/content/drive/MyDrive/LearningforIntern/Chapter/employee_data.csv\")\n",
        "print(df.head())"
      ],
      "metadata": {
        "colab": {
          "base_uri": "https://localhost:8080/"
        },
        "id": "aV-gEKMfGDXI",
        "outputId": "7a552735-9ac8-4418-cd63-023568b8e4b7"
      },
      "execution_count": 40,
      "outputs": [
        {
          "output_type": "stream",
          "name": "stdout",
          "text": [
            "   EmployeeID     Name  Age Department  Salary  YearsExperience\n",
            "0         101    Alice   25         HR   50000                2\n",
            "1         102      Bob   30         IT   70000                5\n",
            "2         103  Charlie   28    Finance   65000                4\n",
            "3         104    David   35         IT   80000                7\n",
            "4         105     Emma   40         HR   90000               10\n"
          ]
        }
      ]
    },
    {
      "cell_type": "markdown",
      "source": [
        "🔹 สร้าง NumPy array และคำนวณค่า Mean, Median, Std Dev"
      ],
      "metadata": {
        "id": "W3fwuYTlGI5w"
      }
    },
    {
      "cell_type": "markdown",
      "source": [
        "1. คำนวณค่าเฉลี่ย (Mean)"
      ],
      "metadata": {
        "id": "3McnKh34IGd5"
      }
    },
    {
      "cell_type": "code",
      "source": [
        "mean_salary = df[\"Salary\"].mean()\n",
        "mean_experience = df[\"YearsExperience\"].mean()\n",
        "print(f\"เงินเดือนเฉลี่ย: {mean_salary} บาท\")\n",
        "print(f\"ประสบการณ์เฉลี่ย: {mean_experience} ปี\")"
      ],
      "metadata": {
        "colab": {
          "base_uri": "https://localhost:8080/"
        },
        "id": "yRaEG6tgGJXc",
        "outputId": "781c810b-0696-4703-a59c-94ff03f2640e"
      },
      "execution_count": 45,
      "outputs": [
        {
          "output_type": "stream",
          "name": "stdout",
          "text": [
            "เงินเดือนเฉลี่ย: 68200.0 บาท\n",
            "ประสบการณ์เฉลี่ย: 4.8 ปี\n"
          ]
        }
      ]
    },
    {
      "cell_type": "markdown",
      "source": [
        "2. คำนวณค่ากลาง (Median)"
      ],
      "metadata": {
        "id": "_wYp5_sqIN4q"
      }
    },
    {
      "cell_type": "code",
      "source": [
        "median_salary = df[\"Salary\"].median()\n",
        "print(f\"เงินเดือนค่ากลาง: {median_salary} \")"
      ],
      "metadata": {
        "colab": {
          "base_uri": "https://localhost:8080/"
        },
        "id": "CAXgGIagIPyj",
        "outputId": "5ef34cf8-ee43-4e57-e8df-fbbe71cd5bef"
      },
      "execution_count": 47,
      "outputs": [
        {
          "output_type": "stream",
          "name": "stdout",
          "text": [
            "เงินเดือนค่ากลาง: 67500.0 \n"
          ]
        }
      ]
    },
    {
      "cell_type": "markdown",
      "source": [
        "3. คำนวณส่วนเบี่ยงเบนมาตรฐาน (Standard Deviation)\n",
        "\n",
        "ช่วยให้เรารู้ว่า เงินเดือนของพนักงานกระจายตัวแค่ไหน\n",
        "ถ้าค่ามีความเบี่ยงเบนสูง หมายความว่า เงินเดือนพนักงานแต่ละคนแตกต่างกันมาก"
      ],
      "metadata": {
        "id": "WVpyQmc0Ih2x"
      }
    },
    {
      "cell_type": "code",
      "source": [
        "std_salary = df[\"Salary\"].std()\n",
        "print(f\"ส่วนเบี่ยงเบนมาตราฐานของเงินเดือน: {std_salary}\")"
      ],
      "metadata": {
        "colab": {
          "base_uri": "https://localhost:8080/"
        },
        "id": "o7bF6renIjYq",
        "outputId": "79a2a2d0-1d56-4ccd-9e60-ca57b3685d24"
      },
      "execution_count": 48,
      "outputs": [
        {
          "output_type": "stream",
          "name": "stdout",
          "text": [
            "ส่วนเบี่ยงเบนมาตราฐานของเงินเดือน: 11754.904413808637\n"
          ]
        }
      ]
    },
    {
      "cell_type": "markdown",
      "source": [
        "🔹 ใช้ Pandas เพื่อกรองข้อมูลตามเงื่อนไข<br>\n",
        "1.ใช้ Pandas เพื่อกรองพนักงานที่มีเงินเดือนสูงกว่า 70,000"
      ],
      "metadata": {
        "id": "x_dvTWKsGKWI"
      }
    },
    {
      "cell_type": "code",
      "source": [
        "import pandas as pd\n",
        "\n",
        "high_salary_df = df[df[\"Salary\"] >= 71000]\n",
        "print(high_salary_df)"
      ],
      "metadata": {
        "colab": {
          "base_uri": "https://localhost:8080/"
        },
        "id": "XOY75mIzGKud",
        "outputId": "f34bac2a-d482-4049-f93b-90b632113fc7"
      },
      "execution_count": 52,
      "outputs": [
        {
          "output_type": "stream",
          "name": "stdout",
          "text": [
            "   EmployeeID    Name  Age Department  Salary  YearsExperience\n",
            "3         104   David   35         IT   80000                7\n",
            "4         105    Emma   40         HR   90000               10\n",
            "7         108  Hannah   33         IT   75000                6\n",
            "8         109     Ian   31  Marketing   71000                5\n"
          ]
        }
      ]
    },
    {
      "cell_type": "markdown",
      "source": [
        "2. กรองพนักงานที่ทำงานในแผนก IT"
      ],
      "metadata": {
        "id": "0i3PB4c2KHMx"
      }
    },
    {
      "cell_type": "code",
      "source": [
        "import pandas as pd\n",
        "\n",
        "it_employee = df[df[\"Department\"] == \"IT\"]\n",
        "print(it_employee)"
      ],
      "metadata": {
        "colab": {
          "base_uri": "https://localhost:8080/"
        },
        "id": "t1FGTD9bJ9WB",
        "outputId": "135dd8ce-8064-427e-c899-38cf36944cfc"
      },
      "execution_count": 53,
      "outputs": [
        {
          "output_type": "stream",
          "name": "stdout",
          "text": [
            "   EmployeeID    Name  Age Department  Salary  YearsExperience\n",
            "1         102     Bob   30         IT   70000                5\n",
            "3         104   David   35         IT   80000                7\n",
            "7         108  Hannah   33         IT   75000                6\n"
          ]
        }
      ]
    },
    {
      "cell_type": "markdown",
      "source": [
        "3. กรองพนักงานที่มีประสบการณ์มากกว่า 5 ปี และอยู่ในแผนก Marketing"
      ],
      "metadata": {
        "id": "E-zZyH5uKi-0"
      }
    },
    {
      "cell_type": "code",
      "source": [
        "import pandas as pd\n",
        "\n",
        "experienced_marketing  = df[(df[\"YearsExperience\"]>5) & (df[\"Department\"]==\"IT\")]\n",
        "display(experienced_marketing)"
      ],
      "metadata": {
        "colab": {
          "base_uri": "https://localhost:8080/",
          "height": 125
        },
        "id": "YALx3LWWKeow",
        "outputId": "0e62f4d6-3bc1-4b07-ce08-7debb775b84d"
      },
      "execution_count": 56,
      "outputs": [
        {
          "output_type": "display_data",
          "data": {
            "text/plain": [
              "   EmployeeID    Name  Age Department  Salary  YearsExperience\n",
              "3         104   David   35         IT   80000                7\n",
              "7         108  Hannah   33         IT   75000                6"
            ],
            "text/html": [
              "\n",
              "  <div id=\"df-25c69183-4256-4d9f-8a8d-39e7cb09900f\" class=\"colab-df-container\">\n",
              "    <div>\n",
              "<style scoped>\n",
              "    .dataframe tbody tr th:only-of-type {\n",
              "        vertical-align: middle;\n",
              "    }\n",
              "\n",
              "    .dataframe tbody tr th {\n",
              "        vertical-align: top;\n",
              "    }\n",
              "\n",
              "    .dataframe thead th {\n",
              "        text-align: right;\n",
              "    }\n",
              "</style>\n",
              "<table border=\"1\" class=\"dataframe\">\n",
              "  <thead>\n",
              "    <tr style=\"text-align: right;\">\n",
              "      <th></th>\n",
              "      <th>EmployeeID</th>\n",
              "      <th>Name</th>\n",
              "      <th>Age</th>\n",
              "      <th>Department</th>\n",
              "      <th>Salary</th>\n",
              "      <th>YearsExperience</th>\n",
              "    </tr>\n",
              "  </thead>\n",
              "  <tbody>\n",
              "    <tr>\n",
              "      <th>3</th>\n",
              "      <td>104</td>\n",
              "      <td>David</td>\n",
              "      <td>35</td>\n",
              "      <td>IT</td>\n",
              "      <td>80000</td>\n",
              "      <td>7</td>\n",
              "    </tr>\n",
              "    <tr>\n",
              "      <th>7</th>\n",
              "      <td>108</td>\n",
              "      <td>Hannah</td>\n",
              "      <td>33</td>\n",
              "      <td>IT</td>\n",
              "      <td>75000</td>\n",
              "      <td>6</td>\n",
              "    </tr>\n",
              "  </tbody>\n",
              "</table>\n",
              "</div>\n",
              "    <div class=\"colab-df-buttons\">\n",
              "\n",
              "  <div class=\"colab-df-container\">\n",
              "    <button class=\"colab-df-convert\" onclick=\"convertToInteractive('df-25c69183-4256-4d9f-8a8d-39e7cb09900f')\"\n",
              "            title=\"Convert this dataframe to an interactive table.\"\n",
              "            style=\"display:none;\">\n",
              "\n",
              "  <svg xmlns=\"http://www.w3.org/2000/svg\" height=\"24px\" viewBox=\"0 -960 960 960\">\n",
              "    <path d=\"M120-120v-720h720v720H120Zm60-500h600v-160H180v160Zm220 220h160v-160H400v160Zm0 220h160v-160H400v160ZM180-400h160v-160H180v160Zm440 0h160v-160H620v160ZM180-180h160v-160H180v160Zm440 0h160v-160H620v160Z\"/>\n",
              "  </svg>\n",
              "    </button>\n",
              "\n",
              "  <style>\n",
              "    .colab-df-container {\n",
              "      display:flex;\n",
              "      gap: 12px;\n",
              "    }\n",
              "\n",
              "    .colab-df-convert {\n",
              "      background-color: #E8F0FE;\n",
              "      border: none;\n",
              "      border-radius: 50%;\n",
              "      cursor: pointer;\n",
              "      display: none;\n",
              "      fill: #1967D2;\n",
              "      height: 32px;\n",
              "      padding: 0 0 0 0;\n",
              "      width: 32px;\n",
              "    }\n",
              "\n",
              "    .colab-df-convert:hover {\n",
              "      background-color: #E2EBFA;\n",
              "      box-shadow: 0px 1px 2px rgba(60, 64, 67, 0.3), 0px 1px 3px 1px rgba(60, 64, 67, 0.15);\n",
              "      fill: #174EA6;\n",
              "    }\n",
              "\n",
              "    .colab-df-buttons div {\n",
              "      margin-bottom: 4px;\n",
              "    }\n",
              "\n",
              "    [theme=dark] .colab-df-convert {\n",
              "      background-color: #3B4455;\n",
              "      fill: #D2E3FC;\n",
              "    }\n",
              "\n",
              "    [theme=dark] .colab-df-convert:hover {\n",
              "      background-color: #434B5C;\n",
              "      box-shadow: 0px 1px 3px 1px rgba(0, 0, 0, 0.15);\n",
              "      filter: drop-shadow(0px 1px 2px rgba(0, 0, 0, 0.3));\n",
              "      fill: #FFFFFF;\n",
              "    }\n",
              "  </style>\n",
              "\n",
              "    <script>\n",
              "      const buttonEl =\n",
              "        document.querySelector('#df-25c69183-4256-4d9f-8a8d-39e7cb09900f button.colab-df-convert');\n",
              "      buttonEl.style.display =\n",
              "        google.colab.kernel.accessAllowed ? 'block' : 'none';\n",
              "\n",
              "      async function convertToInteractive(key) {\n",
              "        const element = document.querySelector('#df-25c69183-4256-4d9f-8a8d-39e7cb09900f');\n",
              "        const dataTable =\n",
              "          await google.colab.kernel.invokeFunction('convertToInteractive',\n",
              "                                                    [key], {});\n",
              "        if (!dataTable) return;\n",
              "\n",
              "        const docLinkHtml = 'Like what you see? Visit the ' +\n",
              "          '<a target=\"_blank\" href=https://colab.research.google.com/notebooks/data_table.ipynb>data table notebook</a>'\n",
              "          + ' to learn more about interactive tables.';\n",
              "        element.innerHTML = '';\n",
              "        dataTable['output_type'] = 'display_data';\n",
              "        await google.colab.output.renderOutput(dataTable, element);\n",
              "        const docLink = document.createElement('div');\n",
              "        docLink.innerHTML = docLinkHtml;\n",
              "        element.appendChild(docLink);\n",
              "      }\n",
              "    </script>\n",
              "  </div>\n",
              "\n",
              "\n",
              "<div id=\"df-3a635dea-2128-4b10-a71b-3d9492f5462a\">\n",
              "  <button class=\"colab-df-quickchart\" onclick=\"quickchart('df-3a635dea-2128-4b10-a71b-3d9492f5462a')\"\n",
              "            title=\"Suggest charts\"\n",
              "            style=\"display:none;\">\n",
              "\n",
              "<svg xmlns=\"http://www.w3.org/2000/svg\" height=\"24px\"viewBox=\"0 0 24 24\"\n",
              "     width=\"24px\">\n",
              "    <g>\n",
              "        <path d=\"M19 3H5c-1.1 0-2 .9-2 2v14c0 1.1.9 2 2 2h14c1.1 0 2-.9 2-2V5c0-1.1-.9-2-2-2zM9 17H7v-7h2v7zm4 0h-2V7h2v10zm4 0h-2v-4h2v4z\"/>\n",
              "    </g>\n",
              "</svg>\n",
              "  </button>\n",
              "\n",
              "<style>\n",
              "  .colab-df-quickchart {\n",
              "      --bg-color: #E8F0FE;\n",
              "      --fill-color: #1967D2;\n",
              "      --hover-bg-color: #E2EBFA;\n",
              "      --hover-fill-color: #174EA6;\n",
              "      --disabled-fill-color: #AAA;\n",
              "      --disabled-bg-color: #DDD;\n",
              "  }\n",
              "\n",
              "  [theme=dark] .colab-df-quickchart {\n",
              "      --bg-color: #3B4455;\n",
              "      --fill-color: #D2E3FC;\n",
              "      --hover-bg-color: #434B5C;\n",
              "      --hover-fill-color: #FFFFFF;\n",
              "      --disabled-bg-color: #3B4455;\n",
              "      --disabled-fill-color: #666;\n",
              "  }\n",
              "\n",
              "  .colab-df-quickchart {\n",
              "    background-color: var(--bg-color);\n",
              "    border: none;\n",
              "    border-radius: 50%;\n",
              "    cursor: pointer;\n",
              "    display: none;\n",
              "    fill: var(--fill-color);\n",
              "    height: 32px;\n",
              "    padding: 0;\n",
              "    width: 32px;\n",
              "  }\n",
              "\n",
              "  .colab-df-quickchart:hover {\n",
              "    background-color: var(--hover-bg-color);\n",
              "    box-shadow: 0 1px 2px rgba(60, 64, 67, 0.3), 0 1px 3px 1px rgba(60, 64, 67, 0.15);\n",
              "    fill: var(--button-hover-fill-color);\n",
              "  }\n",
              "\n",
              "  .colab-df-quickchart-complete:disabled,\n",
              "  .colab-df-quickchart-complete:disabled:hover {\n",
              "    background-color: var(--disabled-bg-color);\n",
              "    fill: var(--disabled-fill-color);\n",
              "    box-shadow: none;\n",
              "  }\n",
              "\n",
              "  .colab-df-spinner {\n",
              "    border: 2px solid var(--fill-color);\n",
              "    border-color: transparent;\n",
              "    border-bottom-color: var(--fill-color);\n",
              "    animation:\n",
              "      spin 1s steps(1) infinite;\n",
              "  }\n",
              "\n",
              "  @keyframes spin {\n",
              "    0% {\n",
              "      border-color: transparent;\n",
              "      border-bottom-color: var(--fill-color);\n",
              "      border-left-color: var(--fill-color);\n",
              "    }\n",
              "    20% {\n",
              "      border-color: transparent;\n",
              "      border-left-color: var(--fill-color);\n",
              "      border-top-color: var(--fill-color);\n",
              "    }\n",
              "    30% {\n",
              "      border-color: transparent;\n",
              "      border-left-color: var(--fill-color);\n",
              "      border-top-color: var(--fill-color);\n",
              "      border-right-color: var(--fill-color);\n",
              "    }\n",
              "    40% {\n",
              "      border-color: transparent;\n",
              "      border-right-color: var(--fill-color);\n",
              "      border-top-color: var(--fill-color);\n",
              "    }\n",
              "    60% {\n",
              "      border-color: transparent;\n",
              "      border-right-color: var(--fill-color);\n",
              "    }\n",
              "    80% {\n",
              "      border-color: transparent;\n",
              "      border-right-color: var(--fill-color);\n",
              "      border-bottom-color: var(--fill-color);\n",
              "    }\n",
              "    90% {\n",
              "      border-color: transparent;\n",
              "      border-bottom-color: var(--fill-color);\n",
              "    }\n",
              "  }\n",
              "</style>\n",
              "\n",
              "  <script>\n",
              "    async function quickchart(key) {\n",
              "      const quickchartButtonEl =\n",
              "        document.querySelector('#' + key + ' button');\n",
              "      quickchartButtonEl.disabled = true;  // To prevent multiple clicks.\n",
              "      quickchartButtonEl.classList.add('colab-df-spinner');\n",
              "      try {\n",
              "        const charts = await google.colab.kernel.invokeFunction(\n",
              "            'suggestCharts', [key], {});\n",
              "      } catch (error) {\n",
              "        console.error('Error during call to suggestCharts:', error);\n",
              "      }\n",
              "      quickchartButtonEl.classList.remove('colab-df-spinner');\n",
              "      quickchartButtonEl.classList.add('colab-df-quickchart-complete');\n",
              "    }\n",
              "    (() => {\n",
              "      let quickchartButtonEl =\n",
              "        document.querySelector('#df-3a635dea-2128-4b10-a71b-3d9492f5462a button');\n",
              "      quickchartButtonEl.style.display =\n",
              "        google.colab.kernel.accessAllowed ? 'block' : 'none';\n",
              "    })();\n",
              "  </script>\n",
              "</div>\n",
              "\n",
              "  <div id=\"id_85b6ec22-2174-4d1c-b6d2-bd229fd7fd4e\">\n",
              "    <style>\n",
              "      .colab-df-generate {\n",
              "        background-color: #E8F0FE;\n",
              "        border: none;\n",
              "        border-radius: 50%;\n",
              "        cursor: pointer;\n",
              "        display: none;\n",
              "        fill: #1967D2;\n",
              "        height: 32px;\n",
              "        padding: 0 0 0 0;\n",
              "        width: 32px;\n",
              "      }\n",
              "\n",
              "      .colab-df-generate:hover {\n",
              "        background-color: #E2EBFA;\n",
              "        box-shadow: 0px 1px 2px rgba(60, 64, 67, 0.3), 0px 1px 3px 1px rgba(60, 64, 67, 0.15);\n",
              "        fill: #174EA6;\n",
              "      }\n",
              "\n",
              "      [theme=dark] .colab-df-generate {\n",
              "        background-color: #3B4455;\n",
              "        fill: #D2E3FC;\n",
              "      }\n",
              "\n",
              "      [theme=dark] .colab-df-generate:hover {\n",
              "        background-color: #434B5C;\n",
              "        box-shadow: 0px 1px 3px 1px rgba(0, 0, 0, 0.15);\n",
              "        filter: drop-shadow(0px 1px 2px rgba(0, 0, 0, 0.3));\n",
              "        fill: #FFFFFF;\n",
              "      }\n",
              "    </style>\n",
              "    <button class=\"colab-df-generate\" onclick=\"generateWithVariable('experienced_marketing')\"\n",
              "            title=\"Generate code using this dataframe.\"\n",
              "            style=\"display:none;\">\n",
              "\n",
              "  <svg xmlns=\"http://www.w3.org/2000/svg\" height=\"24px\"viewBox=\"0 0 24 24\"\n",
              "       width=\"24px\">\n",
              "    <path d=\"M7,19H8.4L18.45,9,17,7.55,7,17.6ZM5,21V16.75L18.45,3.32a2,2,0,0,1,2.83,0l1.4,1.43a1.91,1.91,0,0,1,.58,1.4,1.91,1.91,0,0,1-.58,1.4L9.25,21ZM18.45,9,17,7.55Zm-12,3A5.31,5.31,0,0,0,4.9,8.1,5.31,5.31,0,0,0,1,6.5,5.31,5.31,0,0,0,4.9,4.9,5.31,5.31,0,0,0,6.5,1,5.31,5.31,0,0,0,8.1,4.9,5.31,5.31,0,0,0,12,6.5,5.46,5.46,0,0,0,6.5,12Z\"/>\n",
              "  </svg>\n",
              "    </button>\n",
              "    <script>\n",
              "      (() => {\n",
              "      const buttonEl =\n",
              "        document.querySelector('#id_85b6ec22-2174-4d1c-b6d2-bd229fd7fd4e button.colab-df-generate');\n",
              "      buttonEl.style.display =\n",
              "        google.colab.kernel.accessAllowed ? 'block' : 'none';\n",
              "\n",
              "      buttonEl.onclick = () => {\n",
              "        google.colab.notebook.generateWithVariable('experienced_marketing');\n",
              "      }\n",
              "      })();\n",
              "    </script>\n",
              "  </div>\n",
              "\n",
              "    </div>\n",
              "  </div>\n"
            ],
            "application/vnd.google.colaboratory.intrinsic+json": {
              "type": "dataframe",
              "variable_name": "experienced_marketing",
              "summary": "{\n  \"name\": \"experienced_marketing\",\n  \"rows\": 2,\n  \"fields\": [\n    {\n      \"column\": \"EmployeeID\",\n      \"properties\": {\n        \"dtype\": \"number\",\n        \"std\": 2,\n        \"min\": 104,\n        \"max\": 108,\n        \"num_unique_values\": 2,\n        \"samples\": [\n          108,\n          104\n        ],\n        \"semantic_type\": \"\",\n        \"description\": \"\"\n      }\n    },\n    {\n      \"column\": \"Name\",\n      \"properties\": {\n        \"dtype\": \"string\",\n        \"num_unique_values\": 2,\n        \"samples\": [\n          \"Hannah\",\n          \"David\"\n        ],\n        \"semantic_type\": \"\",\n        \"description\": \"\"\n      }\n    },\n    {\n      \"column\": \"Age\",\n      \"properties\": {\n        \"dtype\": \"number\",\n        \"std\": 1,\n        \"min\": 33,\n        \"max\": 35,\n        \"num_unique_values\": 2,\n        \"samples\": [\n          33,\n          35\n        ],\n        \"semantic_type\": \"\",\n        \"description\": \"\"\n      }\n    },\n    {\n      \"column\": \"Department\",\n      \"properties\": {\n        \"dtype\": \"string\",\n        \"num_unique_values\": 1,\n        \"samples\": [\n          \"IT\"\n        ],\n        \"semantic_type\": \"\",\n        \"description\": \"\"\n      }\n    },\n    {\n      \"column\": \"Salary\",\n      \"properties\": {\n        \"dtype\": \"number\",\n        \"std\": 3535,\n        \"min\": 75000,\n        \"max\": 80000,\n        \"num_unique_values\": 2,\n        \"samples\": [\n          75000\n        ],\n        \"semantic_type\": \"\",\n        \"description\": \"\"\n      }\n    },\n    {\n      \"column\": \"YearsExperience\",\n      \"properties\": {\n        \"dtype\": \"number\",\n        \"std\": 0,\n        \"min\": 6,\n        \"max\": 7,\n        \"num_unique_values\": 2,\n        \"samples\": [\n          6\n        ],\n        \"semantic_type\": \"\",\n        \"description\": \"\"\n      }\n    }\n  ]\n}"
            }
          },
          "metadata": {}
        }
      ]
    },
    {
      "cell_type": "code",
      "source": [],
      "metadata": {
        "id": "KpPvyri2K9cW"
      },
      "execution_count": null,
      "outputs": []
    }
  ]
}