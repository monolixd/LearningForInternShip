{
  "nbformat": 4,
  "nbformat_minor": 0,
  "metadata": {
    "colab": {
      "provenance": [],
      "authorship_tag": "ABX9TyOpTE1nr4z6Uv9PmUUwgUY3",
      "include_colab_link": true
    },
    "kernelspec": {
      "name": "python3",
      "display_name": "Python 3"
    },
    "language_info": {
      "name": "python"
    }
  },
  "cells": [
    {
      "cell_type": "markdown",
      "metadata": {
        "id": "view-in-github",
        "colab_type": "text"
      },
      "source": [
        "<a href=\"https://colab.research.google.com/github/monolixd/LearningForInternShip/blob/main/Chapter1PythonForML.ipynb\" target=\"_parent\"><img src=\"https://colab.research.google.com/assets/colab-badge.svg\" alt=\"Open In Colab\"/></a>"
      ]
    },
    {
      "cell_type": "markdown",
      "source": [
        "\n",
        "🎯 บทเรียนที่ 1: พื้นฐาน Python สำหรับ Machine Learning 🐍\n",
        "\n",
        "ก่อนที่เราจะเข้าสู่ Machine Learning เต็มรูปแบบ เราจะเริ่มจากการเสริมพื้นฐาน Python และไลบรารีสำคัญที่จำเป็นต่อการทำ Data Science และ AI\n",
        "\n",
        "🔹 เป้าหมายของบทเรียนนี้:\n",
        "✅ เข้าใจพื้นฐาน Python และการใช้ไลบรารีสำคัญ เช่น NumPy และ Pandas\n",
        "✅ ฝึกการจัดการข้อมูลและสร้าง Data Pipeline เบื้องต้น\n",
        "✅ ฝึกการทำ Exploratory Data Analysis (EDA)\n",
        "\n",
        "\n",
        "\n"
      ],
      "metadata": {
        "id": "U7r_GYKo8R5Z"
      }
    },
    {
      "cell_type": "markdown",
      "source": [
        "# 🔹 1. Syntax พื้นฐานของ Python"
      ],
      "metadata": {
        "id": "5HbZ-bm28cxw"
      }
    },
    {
      "cell_type": "markdown",
      "source": [
        "## ✅ Variables & Data Types"
      ],
      "metadata": {
        "id": "udBlM0UM8e0T"
      }
    },
    {
      "cell_type": "code",
      "execution_count": 1,
      "metadata": {
        "id": "oAM_yQqS8JTa"
      },
      "outputs": [],
      "source": [
        "#ตัวแปรพื้นฐาน\n",
        "\n",
        "num = 10 #INT\n",
        "pi = 3.14 #Float\n",
        "name = \"Ai Guru\" #STRING\n",
        "is_ready = True #Boolean"
      ]
    },
    {
      "cell_type": "markdown",
      "source": [
        "## ✅ การใช้ List, Tuple, และ Dictionary"
      ],
      "metadata": {
        "id": "zIWs2ELF8vSM"
      }
    },
    {
      "cell_type": "code",
      "source": [
        "# List (สามารถเปลี่ยนค่าได้)\n",
        "fruits = [\"apple\" , \"mango\" , \"Banana\"]\n",
        "fruits.append(\"Grape\")\n",
        "print(fruits)"
      ],
      "metadata": {
        "id": "mV7B_Vkw8wxU",
        "colab": {
          "base_uri": "https://localhost:8080/"
        },
        "outputId": "695daf78-39a8-4c84-8352-9643f4213a18"
      },
      "execution_count": 2,
      "outputs": [
        {
          "output_type": "stream",
          "name": "stdout",
          "text": [
            "['apple', 'mango', 'Banana', 'Grape']\n"
          ]
        }
      ]
    },
    {
      "cell_type": "code",
      "source": [
        "# Tuple (ค่าคงที่ เปลี่ยนไม่ได้)\n",
        "dimensions = (1920, 1080)\n",
        "print(dimensions)"
      ],
      "metadata": {
        "colab": {
          "base_uri": "https://localhost:8080/"
        },
        "id": "IaU4Lx4m3lRZ",
        "outputId": "d0440785-3cde-4d57-b03b-ea27986ffc26"
      },
      "execution_count": 7,
      "outputs": [
        {
          "output_type": "stream",
          "name": "stdout",
          "text": [
            "(1920, 1080)\n"
          ]
        }
      ]
    },
    {
      "cell_type": "code",
      "source": [
        "# Dictionary (เก็บข้อมูลแบบ key-value)\n",
        "person = {\"name\": \"John\", \"age\": 25}\n",
        "print(person[\"name\"],person[\"age\"])"
      ],
      "metadata": {
        "colab": {
          "base_uri": "https://localhost:8080/"
        },
        "id": "oH2rNbsC3oi_",
        "outputId": "ebe6fe42-1f3a-4639-e463-79174848dd0f"
      },
      "execution_count": 12,
      "outputs": [
        {
          "output_type": "stream",
          "name": "stdout",
          "text": [
            "John 25\n"
          ]
        }
      ]
    },
    {
      "cell_type": "markdown",
      "source": [
        "## ✅ Loop & Condition"
      ],
      "metadata": {
        "id": "P70kUgd24bai"
      }
    },
    {
      "cell_type": "code",
      "source": [
        "age = 20\n",
        "if age >= 18 :\n",
        "  print(\"You are an adult\")\n",
        "else:\n",
        "  print(\"You are a minor\")"
      ],
      "metadata": {
        "colab": {
          "base_uri": "https://localhost:8080/"
        },
        "id": "F4tuh-Rg31SV",
        "outputId": "7b06c957-6075-43b0-dbfd-67d55c307d5a"
      },
      "execution_count": 13,
      "outputs": [
        {
          "output_type": "stream",
          "name": "stdout",
          "text": [
            "You are an adult\n"
          ]
        }
      ]
    },
    {
      "cell_type": "code",
      "source": [
        "for i in range(5):\n",
        "  print(\"countdown:\",i+1)"
      ],
      "metadata": {
        "colab": {
          "base_uri": "https://localhost:8080/"
        },
        "id": "OwyKXgz45Rlg",
        "outputId": "10f44aef-25e8-4ede-98a6-145f26f794b3"
      },
      "execution_count": 15,
      "outputs": [
        {
          "output_type": "stream",
          "name": "stdout",
          "text": [
            "countdown: 1\n",
            "countdown: 2\n",
            "countdown: 3\n",
            "countdown: 4\n",
            "countdown: 5\n"
          ]
        }
      ]
    },
    {
      "cell_type": "markdown",
      "source": [
        "## ✅ Function & Lambda"
      ],
      "metadata": {
        "id": "NjB0zeVR6wVT"
      }
    },
    {
      "cell_type": "code",
      "source": [
        "# ฟังก์ชันทั่วไป\n",
        "def add(a, b):\n",
        "    return a + b\n",
        "\n",
        "# Lambda function (ฟังก์ชันแบบย่อ)\n",
        "square = lambda x: x**2\n",
        "print(square(5))  # Output: 25"
      ],
      "metadata": {
        "colab": {
          "base_uri": "https://localhost:8080/"
        },
        "id": "KJMWQQr46loV",
        "outputId": "d6de2b2b-a038-4296-b6a8-3c9762b8f31c"
      },
      "execution_count": 16,
      "outputs": [
        {
          "output_type": "stream",
          "name": "stdout",
          "text": [
            "25\n"
          ]
        }
      ]
    },
    {
      "cell_type": "markdown",
      "source": [
        "# แบบฝึกหัด"
      ],
      "metadata": {
        "id": "_wupfB7H7qCB"
      }
    },
    {
      "cell_type": "markdown",
      "source": [
        "## 📌 แบบฝึกหัดที่ 1: ตัวแปรและโครงสร้างข้อมูล"
      ],
      "metadata": {
        "id": "cFIPgiGo7lYz"
      }
    },
    {
      "cell_type": "markdown",
      "source": [
        "1️⃣ สร้างตัวแปร ชื่อสินค้า (product_name), ราคาต่อชิ้น (price_per_unit) และ จำนวนที่ซื้อ (quantity)\n",
        "\n",
        "คำนวณราคารวมของสินค้า (total_price) และแสดงผลออกมา"
      ],
      "metadata": {
        "id": "FE3g41Xl7ujq"
      }
    },
    {
      "cell_type": "code",
      "source": [
        "product_name = \"Iphone12\"\n",
        "price_per_unit = 20000\n",
        "quantity = 1\n",
        "total_price = price_per_unit*quantity\n",
        "print(total_price)"
      ],
      "metadata": {
        "colab": {
          "base_uri": "https://localhost:8080/"
        },
        "id": "jIHBFUu47JKn",
        "outputId": "f95b4439-097d-4546-aa4b-78ff7f430268"
      },
      "execution_count": 17,
      "outputs": [
        {
          "output_type": "stream",
          "name": "stdout",
          "text": [
            "20000\n"
          ]
        }
      ]
    },
    {
      "cell_type": "markdown",
      "source": [
        "2️⃣ สร้าง List ที่เก็บชื่อสัตว์ 5 ตัว เช่น [\"แมว\", \"หมา\", \"นก\", \"ปลา\", \"กระต่าย\"]\n",
        "\n",
        "เพิ่มสัตว์ใหม่เข้าไปใน List และแสดงผล List ออกมา"
      ],
      "metadata": {
        "id": "zvkZnDS18sR6"
      }
    },
    {
      "cell_type": "code",
      "source": [
        "animals = [\"cat\",\"dog\",\"bird\",\"fish\",\"rabbit\"]\n",
        "print(animals)\n",
        "\n",
        "animals.append(\"elephant\")\n",
        "print(animals)"
      ],
      "metadata": {
        "colab": {
          "base_uri": "https://localhost:8080/"
        },
        "id": "lc58vKLE8oPI",
        "outputId": "3b0b0da0-9afd-443e-ab55-e4e1b27bf0a8"
      },
      "execution_count": 19,
      "outputs": [
        {
          "output_type": "stream",
          "name": "stdout",
          "text": [
            "['cat', 'dog', 'bird', 'fish', 'rabbit']\n",
            "['cat', 'dog', 'bird', 'fish', 'rabbit', 'elephant']\n"
          ]
        }
      ]
    },
    {
      "cell_type": "markdown",
      "source": [
        "3️⃣ สร้าง Dictionary ที่เก็บข้อมูลของนักเรียน 3 คน โดยมี Key เป็น \"name\", \"age\", \"score\"\n",
        "\n",
        "แสดงชื่อนักเรียนที่มีคะแนนสูงสุด"
      ],
      "metadata": {
        "id": "jkezaXyx9Vxh"
      }
    },
    {
      "cell_type": "code",
      "source": [
        "# 3️⃣ จัดการ Dictionary ของนักเรียน\n",
        "students = [\n",
        "    {\"name\": \"Alice\", \"age\": 15, \"score\": 85},\n",
        "    {\"name\": \"Bob\", \"age\": 16, \"score\": 92},\n",
        "    {\"name\": \"Charlie\", \"age\": 14, \"score\": 78}\n",
        "]\n",
        "\n",
        "# หาเด็กที่มีคะแนนสูงสุด\n",
        "top_student = max(students, key=lambda s: s[\"score\"])\n",
        "print(f\"นักเรียนที่ได้คะแนนสูงสุดคือ {top_student['name']} ได้คะแนน {top_student['score']} คะแนน\")"
      ],
      "metadata": {
        "colab": {
          "base_uri": "https://localhost:8080/"
        },
        "id": "EsBmNDXP9NwN",
        "outputId": "cf91bb2a-b123-4d8b-f6d7-41b5d180ba13"
      },
      "execution_count": 20,
      "outputs": [
        {
          "output_type": "stream",
          "name": "stdout",
          "text": [
            "นักเรียนที่ได้คะแนนสูงสุดคือ Bob ได้คะแนน 92 คะแนน\n"
          ]
        }
      ]
    },
    {
      "cell_type": "markdown",
      "source": [
        "## 📌 แบบฝึกหัดที่ 2: เงื่อนไข (If-Else) และ ลูป (For, While)"
      ],
      "metadata": {
        "id": "eTcp8gZa-jd7"
      }
    },
    {
      "cell_type": "markdown",
      "source": [
        "4️⃣ ให้เขียนโปรแกรมที่รับ อายุของผู้ใช้ และแสดงข้อความว่า\n",
        "\n",
        "\"คุณเป็นผู้ใหญ่\" ถ้าอายุ 18 ปีขึ้นไป\n",
        "\"คุณยังเป็นเด็ก\" ถ้าอายุน้อยกว่า 18 ปี"
      ],
      "metadata": {
        "id": "HNOpPAeB-pMS"
      }
    },
    {
      "cell_type": "code",
      "source": [
        "age = 20\n",
        "if age>=18:\n",
        "  print(\"คุณเป็นผู้ใหญ่\")\n",
        "else:\n",
        "  print(\"คุณยังเป็นเด็ก\")"
      ],
      "metadata": {
        "colab": {
          "base_uri": "https://localhost:8080/"
        },
        "id": "Gef-ZHx9-V7c",
        "outputId": "0fb92518-e543-4f59-e216-8e1dfd76642c"
      },
      "execution_count": 21,
      "outputs": [
        {
          "output_type": "stream",
          "name": "stdout",
          "text": [
            "คุณเป็นผู้ใหญ่\n"
          ]
        }
      ]
    },
    {
      "cell_type": "markdown",
      "source": [
        "5️⃣ ใช้ For Loop เพื่อวนลูปแสดงตัวเลข 1-10"
      ],
      "metadata": {
        "id": "OSkkkvWQ_UL5"
      }
    },
    {
      "cell_type": "code",
      "source": [
        "for i in range(10):\n",
        "  print(i+1)"
      ],
      "metadata": {
        "colab": {
          "base_uri": "https://localhost:8080/"
        },
        "id": "Eou7KUG8-74t",
        "outputId": "7677744b-700a-45be-dec2-e6dbba58a7e4"
      },
      "execution_count": 23,
      "outputs": [
        {
          "output_type": "stream",
          "name": "stdout",
          "text": [
            "1\n",
            "2\n",
            "3\n",
            "4\n",
            "5\n",
            "6\n",
            "7\n",
            "8\n",
            "9\n",
            "10\n"
          ]
        }
      ]
    },
    {
      "cell_type": "markdown",
      "source": [
        "6️⃣ ใช้ While Loop เพื่อให้ผู้ใช้ป้อนเลข และหยุดเมื่อป้อนเลข 0"
      ],
      "metadata": {
        "id": "T8w4FvRn_fOU"
      }
    },
    {
      "cell_type": "code",
      "source": [
        "while True:\n",
        "  num = int(input(\"ป้อนตัวเลข(พิมพ์ 0 เพื่อหยุด):\"))\n",
        "  if num == 0:\n",
        "    print(\"จบโปรแกรม\")\n",
        "    break"
      ],
      "metadata": {
        "colab": {
          "base_uri": "https://localhost:8080/"
        },
        "id": "VT3d45P8Ahfa",
        "outputId": "e94cbc65-d03c-4a43-d67c-f6338e999857"
      },
      "execution_count": 25,
      "outputs": [
        {
          "output_type": "stream",
          "name": "stdout",
          "text": [
            "ป้อนตัวเลข(พิมพ์ 0 เพื่อหยุด):1\n",
            "ป้อนตัวเลข(พิมพ์ 0 เพื่อหยุด):1\n",
            "ป้อนตัวเลข(พิมพ์ 0 เพื่อหยุด):2\n",
            "ป้อนตัวเลข(พิมพ์ 0 เพื่อหยุด):3\n",
            "ป้อนตัวเลข(พิมพ์ 0 เพื่อหยุด):0\n",
            "จบโปรแกรม\n"
          ]
        }
      ]
    },
    {
      "cell_type": "markdown",
      "source": [
        "## 📌 แบบฝึกหัดที่ 3: ฟังก์ชัน และ Lambda Function"
      ],
      "metadata": {
        "id": "PqfeofiiFRy8"
      }
    },
    {
      "cell_type": "markdown",
      "source": [
        "7️⃣ สร้างฟังก์ชัน calculate_discount(price, discount_percent)\n",
        "\n",
        "รับราคาสินค้าและเปอร์เซ็นต์ส่วนลด แล้วคืนค่าราคาสุทธิหลังหักส่วนลด"
      ],
      "metadata": {
        "id": "5nrnnhisGnvB"
      }
    },
    {
      "cell_type": "code",
      "source": [
        "def calculate_discount(price,discount_percent):\n",
        "    discount_amount = price * (discount_percent / 100)\n",
        "    final_price = price - discount_amount\n",
        "    return final_price\n",
        "\n",
        "# ทดสอบฟังก์ชัน\n",
        "original_price = 1000\n",
        "discount = 10\n",
        "print(f\"ราคาหลังหักส่วนลด: {calculate_discount(original_price, discount)} บาท\")\n"
      ],
      "metadata": {
        "colab": {
          "base_uri": "https://localhost:8080/"
        },
        "id": "gyr0LmksDuYz",
        "outputId": "3cb6a7b0-b906-436b-be84-cabcce3e5759"
      },
      "execution_count": 26,
      "outputs": [
        {
          "output_type": "stream",
          "name": "stdout",
          "text": [
            "ราคาหลังหักส่วนลด: 900.0 บาท\n"
          ]
        }
      ]
    },
    {
      "cell_type": "markdown",
      "source": [
        "8️⃣ ใช้ Lambda Function สร้างฟังก์ชัน square ที่คืนค่ากำลังสองของตัวเลข"
      ],
      "metadata": {
        "id": "Rjq7kSN9HSwF"
      }
    },
    {
      "cell_type": "code",
      "source": [
        "# Lambda function (ฟังก์ชันแบบย่อ)\n",
        "square = lambda x: x**2\n",
        "print(square(4))"
      ],
      "metadata": {
        "colab": {
          "base_uri": "https://localhost:8080/"
        },
        "id": "InoIb39mHAAd",
        "outputId": "2effcf9f-f75c-4e8c-b3b9-ff77da290683"
      },
      "execution_count": 27,
      "outputs": [
        {
          "output_type": "stream",
          "name": "stdout",
          "text": [
            "16\n"
          ]
        }
      ]
    },
    {
      "cell_type": "code",
      "source": [],
      "metadata": {
        "id": "w5pF-iWiHR7n"
      },
      "execution_count": null,
      "outputs": []
    }
  ]
}